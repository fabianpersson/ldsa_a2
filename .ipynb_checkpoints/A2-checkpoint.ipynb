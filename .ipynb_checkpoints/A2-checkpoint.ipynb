{
 "cells": [
  {
   "cell_type": "code",
   "execution_count": 37,
   "metadata": {},
   "outputs": [],
   "source": [
    "from pprint import pprint\n",
    "from pyspark.sql import SparkSession\n",
    "from  pyspark.sql.functions import abs\n",
    "from pyspark.sql.functions import udf\n",
    "from pyspark.sql.types import StringType\n",
    "\n",
    "# New API\n",
    "spark_session = SparkSession\\\n",
    "        .builder\\\n",
    "        .master(\"local\") \\\n",
    "        .appName(\"a3\")\\\n",
    "        .getOrCreate()\n",
    "\n",
    "# Old API (RDD)\n",
    "spark_context = spark_session.sparkContext\n",
    "\n",
    "dataframe = spark_session.read\\\n",
    "    .csv(\"gender.csv\", header=True, multiLine=True, inferSchema=True, escape='\"').cache()\n",
    "\n"
   ]
  },
  {
   "cell_type": "code",
   "execution_count": null,
   "metadata": {},
   "outputs": [],
   "source": [
    "dataframe.printSchema()"
   ]
  },
  {
   "cell_type": "code",
   "execution_count": 104,
   "metadata": {},
   "outputs": [
    {
     "name": "stdout",
     "output_type": "stream",
     "text": [
      "+--------------------+------------------------+\n",
      "|        EmployerName|AbsDiffMeanHourlyPercent|\n",
      "+--------------------+------------------------+\n",
      "|COMPLETE CARE HOL...|                   400.0|\n",
      "|BARLOWS (U.K.) LI...|                   267.6|\n",
      "|MILLWALL HOLDINGS...|                   159.0|\n",
      "|    INBRELLA LIMITED|                   150.0|\n",
      "|    BAR 2010 LIMITED|                   148.0|\n",
      "|Solent Academies ...|                   107.0|\n",
      "|STOKE CITY FOOTBA...|                    92.5|\n",
      "|BURNLEY FOOTBALL ...|                    88.4|\n",
      "|SWANSEA CITY ASSO...|                    87.8|\n",
      "|MANCHESTER CITY F...|                    87.7|\n",
      "|WEST HAM UNITED F...|                    87.4|\n",
      "|WATFORD ASSOCIATI...|                    87.0|\n",
      "|SUNDERLAND ASSOCI...|                    85.1|\n",
      "|WEST BROMWICH ALB...|                    84.4|\n",
      "|SOUTHAMPTON FOOTB...|                    84.4|\n",
      "|        CPFC LIMITED|                    84.0|\n",
      "|NEWCASTLE UNITED ...|                    83.3|\n",
      "|AFC BOURNEMOUTH L...|                    83.0|\n",
      "|CHELSEA FOOTBALL ...|                    83.0|\n",
      "|MIDDLESBROUGH FOO...|                    83.0|\n",
      "+--------------------+------------------------+\n",
      "only showing top 20 rows\n",
      "\n"
     ]
    }
   ],
   "source": [
    "dataframe\\\n",
    "    .withColumn('AbsDiffMeanHourlyPercent', abs(dataframe.DiffMeanHourlyPercent))\\\n",
    "    .select('EmployerName', 'AbsDiffMeanHourlyPercent')\\\n",
    "    .orderBy('AbsDiffMeanHourlyPercent', ascending=False)\\\n",
    "    .show()"
   ]
  },
  {
   "cell_type": "code",
   "execution_count": null,
   "metadata": {},
   "outputs": [],
   "source": [
    "summary = dataframe.withColumn('AbsDiffMeanHourlyPercent', abs(dataframe.DiffMeanHourlyPercent))\\\n",
    "    .filter(dataframe.DiffMeanHourlyPercent == 0.0)\\\n",
    "    .select('EmployerName', 'AbsDiffMeanHourlyPercent')\\\n",
    "    .summary()"
   ]
  },
  {
   "cell_type": "code",
   "execution_count": 110,
   "metadata": {},
   "outputs": [
    {
     "name": "stdout",
     "output_type": "stream",
     "text": [
      "+-------+--------------------+------------------------+\n",
      "|summary|        EmployerName|AbsDiffMeanHourlyPercent|\n",
      "+-------+--------------------+------------------------+\n",
      "|  count|                  82|                      82|\n",
      "|   mean|                null|                     0.0|\n",
      "| stddev|                null|                     0.0|\n",
      "|    min|24-7 EMPLOYMENT S...|                     0.0|\n",
      "|    25%|                null|                     0.0|\n",
      "|    50%|                null|                     0.0|\n",
      "|    75%|                null|                     0.0|\n",
      "|    max|WISE SECURITY SER...|                     0.0|\n",
      "+-------+--------------------+------------------------+\n",
      "\n"
     ]
    }
   ],
   "source": [
    "dataframe\\\n",
    "    .withColumn('AbsDiffMeanHourlyPercent', abs(dataframe.DiffMeanHourlyPercent))\\\n",
    "    .filter(abs(dataframe.DiffMeanHourlyPercent) == '0.0')\\\n",
    "    .select('EmployerName', 'AbsDiffMeanHourlyPercent')\\\n",
    "    .summary()\\\n",
    "    .show()"
   ]
  },
  {
   "cell_type": "code",
   "execution_count": null,
   "metadata": {},
   "outputs": [],
   "source": [
    "summary.write.format(\"csv\").mode(\"overwrite\").options(header=\"true\").save(\"summary.csv\")"
   ]
  },
  {
   "cell_type": "code",
   "execution_count": null,
   "metadata": {},
   "outputs": [],
   "source": [
    "summary = spark_session.read\\\n",
    "    .csv(\"summary.csv\", header=True)\\\n",
    "    .show()"
   ]
  },
  {
   "cell_type": "code",
   "execution_count": 115,
   "metadata": {},
   "outputs": [
    {
     "data": {
      "text/plain": [
       "10503"
      ]
     },
     "execution_count": 115,
     "metadata": {},
     "output_type": "execute_result"
    }
   ],
   "source": [
    "dataframe\\\n",
    "    .count()"
   ]
  },
  {
   "cell_type": "code",
   "execution_count": 116,
   "metadata": {},
   "outputs": [
    {
     "data": {
      "text/plain": [
       "0.11663334285442255"
      ]
     },
     "execution_count": 116,
     "metadata": {},
     "output_type": "execute_result"
    }
   ],
   "source": [
    "1225/10503"
   ]
  },
  {
   "cell_type": "code",
   "execution_count": 17,
   "metadata": {},
   "outputs": [],
   "source": [
    "my_dict = dict.fromkeys(list(range(10,34)), 'C')\n",
    "my_dict.update(dict.fromkeys([35], 'D'))\n",
    "my_dict.update(dict.fromkeys(list(range(36,40)), 'E'))\n",
    "my_dict.update(dict.fromkeys(list(range(41,44)), 'F'))\n",
    "my_dict.update(dict.fromkeys(list(range(45,48)), 'G'))\n",
    "my_dict.update(dict.fromkeys(list(range(49,54)), 'H'))\n",
    "my_dict.update(dict.fromkeys(list(range(55,57)), 'I'))\n",
    "my_dict.update(dict.fromkeys(list(range(58,64)), 'J'))\n",
    "my_dict.update(dict.fromkeys(list(range(64,67)), 'K'))\n",
    "my_dict.update(dict.fromkeys([68], 'L'))\n",
    "my_dict.update(dict.fromkeys(list(range(69,76)), 'M'))\n",
    "my_dict.update(dict.fromkeys(list(range(77,83)), 'N'))\n",
    "my_dict.update(dict.fromkeys([84], 'O'))\n",
    "my_dict.update(dict.fromkeys([85], 'P'))\n",
    "my_dict.update(dict.fromkeys(list(range(86,89)), 'Q'))\n",
    "my_dict.update(dict.fromkeys(list(range(90,94)), 'R'))\n",
    "my_dict.update(dict.fromkeys(list(range(94,97)), 'S'))\n",
    "my_dict.update(dict.fromkeys(list(range(97,99)), 'T'))\n",
    "my_dict.update(dict.fromkeys([99], 'U'))\n",
    "dict = spark_context.broadcast(my_dict)"
   ]
  },
  {
   "cell_type": "code",
   "execution_count": null,
   "metadata": {},
   "outputs": [],
   "source": []
  },
  {
   "cell_type": "code",
   "execution_count": 51,
   "metadata": {},
   "outputs": [
    {
     "name": "stdout",
     "output_type": "stream",
     "text": [
      "root\n",
      " |-- EmployerName: string (nullable = true)\n",
      " |-- Address: string (nullable = true)\n",
      " |-- CompanyNumber: string (nullable = true)\n",
      " |-- SicCodes: string (nullable = true)\n",
      " |-- DiffMeanHourlyPercent: double (nullable = true)\n",
      " |-- DiffMedianHourlyPercent: double (nullable = true)\n",
      " |-- DiffMeanBonusPercent: double (nullable = true)\n",
      " |-- DiffMedianBonusPercent: double (nullable = true)\n",
      " |-- MaleBonusPercent: double (nullable = true)\n",
      " |-- FemaleBonusPercent: double (nullable = true)\n",
      " |-- MaleLowerQuartile: double (nullable = true)\n",
      " |-- FemaleLowerQuartile: double (nullable = true)\n",
      " |-- MaleLowerMiddleQuartile: double (nullable = true)\n",
      " |-- FemaleLowerMiddleQuartile: double (nullable = true)\n",
      " |-- MaleUpperMiddleQuartile: double (nullable = true)\n",
      " |-- FemaleUpperMiddleQuartile: double (nullable = true)\n",
      " |-- MaleTopQuartile: double (nullable = true)\n",
      " |-- FemaleTopQuartile: double (nullable = true)\n",
      " |-- CompanyLinkToGPGInfo: string (nullable = true)\n",
      " |-- ResponsiblePerson: string (nullable = true)\n",
      " |-- EmployerSize: string (nullable = true)\n",
      " |-- CurrentName: string (nullable = true)\n",
      " |-- SubmittedAfterTheDeadline\r",
      ": string (nullable = true)\n",
      "\n"
     ]
    }
   ],
   "source": [
    "dataframe.printSchema()"
   ]
  },
  {
   "cell_type": "code",
   "execution_count": 77,
   "metadata": {},
   "outputs": [
    {
     "data": {
      "text/plain": [
       "DataFrame[SicCodes: string, Sector: string]"
      ]
     },
     "execution_count": 77,
     "metadata": {},
     "output_type": "execute_result"
    }
   ],
   "source": [
    "def code_lookup(codeString):\n",
    "    try:\n",
    "        if not codeString.split(',')[0] == '1': \n",
    "            return dict.value[int(codeString.split(',')[0][0:2])]\n",
    "        else:\n",
    "            return \n",
    "    except:\n",
    "        return\n",
    "    \n",
    "udf_code_lookup = udf(code_lookup, StringType())\n",
    "\n",
    "dataframe.select('SicCodes').withColumn(\"Sector\", udf_code_lookup(dataframe.SicCodes))\n",
    "\n",
    "#dict.value[10]"
   ]
  },
  {
   "cell_type": "code",
   "execution_count": 87,
   "metadata": {},
   "outputs": [
    {
     "name": "stdout",
     "output_type": "stream",
     "text": [
      "+------+--------------------------+\n",
      "|Sector|min(DiffMeanHourlyPercent)|\n",
      "+------+--------------------------+\n",
      "|     K|                     -24.2|\n",
      "|     F|                    -267.6|\n",
      "|     Q|                    -400.0|\n",
      "|     E|                     -30.0|\n",
      "|     T|                       0.6|\n",
      "|     M|                    -150.0|\n",
      "|     L|                     -15.1|\n",
      "|     U|                      -6.2|\n",
      "|     O|                     -25.0|\n",
      "|     D|                     -19.4|\n",
      "|     C|                     -51.5|\n",
      "|     J|                     -37.4|\n",
      "|     N|                     -64.4|\n",
      "|     S|                     -47.2|\n",
      "|     R|                     -32.6|\n",
      "|     G|                     -41.4|\n",
      "|     I|                     -25.2|\n",
      "|     P|                     -51.0|\n",
      "|     H|                     -36.0|\n",
      "+------+--------------------------+\n",
      "\n"
     ]
    }
   ],
   "source": [
    "updatedFrame = dataframe.select('SicCodes', 'DiffMeanHourlyPercent').withColumn(\"Sector\", udf_code_lookup(dataframe.SicCodes))\n",
    "updatedFrame.groupby('Sector')\\\n",
    "    .agg({'DiffMeanHourlyPercent': 'min'})\\\n",
    "    .filter(updatedFrame.Sector.isNotNull())\\\n",
    "    .show()\n"
   ]
  },
  {
   "cell_type": "code",
   "execution_count": null,
   "metadata": {},
   "outputs": [],
   "source": []
  }
 ],
 "metadata": {
  "kernelspec": {
   "display_name": "Python 3",
   "language": "python",
   "name": "python3"
  },
  "language_info": {
   "codemirror_mode": {
    "name": "ipython",
    "version": 3
   },
   "file_extension": ".py",
   "mimetype": "text/x-python",
   "name": "python",
   "nbconvert_exporter": "python",
   "pygments_lexer": "ipython3",
   "version": "3.5.2"
  }
 },
 "nbformat": 4,
 "nbformat_minor": 2
}
