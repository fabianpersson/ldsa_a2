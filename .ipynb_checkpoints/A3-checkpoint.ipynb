{
 "cells": [
  {
   "cell_type": "code",
   "execution_count": null,
   "metadata": {},
   "outputs": [],
   "source": [
    "from pyspark.sql import SparkSession\n",
    "import re \n",
    "# (8 cores, 16gb per machine) x 5 = 40 cores\n",
    "\n",
    "# New API\n",
    "spark_session = SparkSession\\\n",
    "        .builder\\\n",
    "        .master(\"spark://fabian-a2-from-snap:7077\") \\\n",
    "        .appName(\"simple_example_2\")\\\n",
    "        .getOrCreate()\n",
    "\n",
    "# Old API (RDD)\n",
    "spark_context = spark_session.sparkContext\n",
    "\n",
    "sv_lines = spark_context.textFile('file:///home/ubuntu/code/europarl-v7.sv-en.sv').cache()\n",
    "en_lines = spark_context.textFile('file:///home/ubuntu/code/europarl-v7.sv-en.en').cache()"
   ]
  },
  {
   "cell_type": "code",
   "execution_count": 10,
   "metadata": {},
   "outputs": [
    {
     "name": "stdout",
     "output_type": "stream",
     "text": [
      "http://192.168.1.115:4040\n"
     ]
    }
   ],
   "source": [
    "print(spark_context.uiWebUrl)"
   ]
  },
  {
   "cell_type": "code",
   "execution_count": null,
   "metadata": {},
   "outputs": [],
   "source": [
    "#pair translation  - zip en with index\n",
    "RDD_en = en_lines\\\n",
    ".map(lambda x: x.lower())\\\n",
    ".map(lambda x: re.sub(r'\\W+', ' ', x))\\\n",
    ".map(lambda x: re.sub(r'[0-9]+', '', x))\\\n",
    ".flatMap(lambda w: w.split('\\n'))\\\n",
    ".map(lambda w: w.strip())\\\n",
    ".zipWithIndex()\\\n",
    ".map(lambda z: (z[1], z[0]))"
   ]
  },
  {
   "cell_type": "code",
   "execution_count": 3,
   "metadata": {},
   "outputs": [],
   "source": [
    "#Zip sv with index\n",
    "RDD_sv = sv_lines\\\n",
    ".map(lambda x: x.lower())\\\n",
    ".map(lambda x: re.sub(r'\\W+', ' ', x))\\\n",
    ".map(lambda x: re.sub(r'[0-9]+', '', x))\\\n",
    ".flatMap(lambda w: w.split('\\n'))\\\n",
    ".map(lambda w: w.strip())\\\n",
    ".zipWithIndex()\\\n",
    ".map(lambda z: (z[1], z[0]))\\"
   ]
  },
  {
   "cell_type": "code",
   "execution_count": null,
   "metadata": {},
   "outputs": [],
   "source": [
    "RDD_joined = RDD_en.join(RDD_sv)"
   ]
  },
  {
   "cell_type": "code",
   "execution_count": null,
   "metadata": {},
   "outputs": [],
   "source": [
    "RDD_joined.cache().count()"
   ]
  },
  {
   "cell_type": "code",
   "execution_count": null,
   "metadata": {},
   "outputs": [],
   "source": [
    "spark_context.stop()"
   ]
  },
  {
   "cell_type": "code",
   "execution_count": null,
   "metadata": {},
   "outputs": [],
   "source": []
  }
 ],
 "metadata": {
  "kernelspec": {
   "display_name": "Python 3",
   "language": "python",
   "name": "python3"
  },
  "language_info": {
   "codemirror_mode": {
    "name": "ipython",
    "version": 3
   },
   "file_extension": ".py",
   "mimetype": "text/x-python",
   "name": "python",
   "nbconvert_exporter": "python",
   "pygments_lexer": "ipython3",
   "version": "3.5.2"
  }
 },
 "nbformat": 4,
 "nbformat_minor": 2
}
